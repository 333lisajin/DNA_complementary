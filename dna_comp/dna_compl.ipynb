{
 "cells": [
  {
   "cell_type": "code",
   "execution_count": 1,
   "id": "9208fac9",
   "metadata": {},
   "outputs": [],
   "source": [
    "import warnings\n",
    "warnings.filterwarnings('ignore')\n",
    "\n",
    "import ipywidgets as widgets\n",
    "from ipywidgets import interact, interact_manual, fixed\n",
    "from IPython.display import display, clear_output"
   ]
  },
  {
   "cell_type": "code",
   "execution_count": 2,
   "id": "b5bfced3",
   "metadata": {},
   "outputs": [
    {
     "name": "stdout",
     "output_type": "stream",
     "text": [
      "Dear User, please type your DNA sequence and find the complementary sequence.\n"
     ]
    }
   ],
   "source": [
    "print ('Dear User, please type your DNA sequence and find the complementary sequence.')"
   ]
  },
  {
   "cell_type": "code",
   "execution_count": 3,
   "id": "3e8e42f7",
   "metadata": {},
   "outputs": [
    {
     "data": {
      "application/vnd.jupyter.widget-view+json": {
       "model_id": "40e548cc5c634df8a14cc4d6aa00c57a",
       "version_major": 2,
       "version_minor": 0
      },
      "text/plain": [
       "interactive(children=(Text(value='', description='seq'), Button(description='Run Interact', style=ButtonStyle(…"
      ]
     },
     "metadata": {},
     "output_type": "display_data"
    }
   ],
   "source": [
    "def reverse_complement(seq):\n",
    "    seq=seq.upper()\n",
    "    valid = 'ACTG'\n",
    "    for letter in seq:\n",
    "        if letter not in valid:\n",
    "            return ('False, not a DNA sequence') \n",
    "    \n",
    "\n",
    "    \n",
    "    complement = {'A': 'T', 'C': 'G', 'G': 'C', 'T': 'A'}\n",
    "    com_seq=''.join([complement[base] for base in seq[::-1]])\n",
    "    print (com_seq)\n",
    "         \n",
    "name=interact_manual(reverse_complement,seq='')"
   ]
  },
  {
   "cell_type": "code",
   "execution_count": 4,
   "id": "c5e6b951",
   "metadata": {},
   "outputs": [],
   "source": [
    "!pip freeze >requirements.txt"
   ]
  },
  {
   "cell_type": "code",
   "execution_count": null,
   "id": "a6d2480e",
   "metadata": {},
   "outputs": [],
   "source": []
  }
 ],
 "metadata": {
  "kernelspec": {
   "display_name": "Python 3",
   "language": "python",
   "name": "python3"
  },
  "language_info": {
   "codemirror_mode": {
    "name": "ipython",
    "version": 3
   },
   "file_extension": ".py",
   "mimetype": "text/x-python",
   "name": "python",
   "nbconvert_exporter": "python",
   "pygments_lexer": "ipython3",
   "version": "3.8.5"
  }
 },
 "nbformat": 4,
 "nbformat_minor": 5
}
